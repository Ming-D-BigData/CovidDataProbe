{
 "cells": [
  {
   "cell_type": "code",
   "execution_count": null,
   "id": "f3e4e695",
   "metadata": {},
   "outputs": [],
   "source": [
    "# NOTE: Not all, but only 50000 reconds requested, starting from the most recent\n",
    "import json\n",
    "\n",
    "with open('../raw_data/Whole Province, QUEBEC, CA/data.txt') as f:\n",
    "    json_data = json.load(f)\n",
    "    \n",
    "#print(json.dumps(json_data, indent=4, sort_keys=True))"
   ]
  },
  {
   "cell_type": "code",
   "execution_count": null,
   "id": "9f220c5f",
   "metadata": {},
   "outputs": [],
   "source": [
    "import pandas as pd\n",
    "from datetime import datetime\n",
    "\n",
    "df = pd.json_normalize(json_data['result']['records'])\n",
    "del df['_id']\n",
    "df = df.drop(0)  #invalid record\n",
    "df.rename(columns={x:x.replace('Nb_', '') for x in df.columns}, inplace=True)\n",
    "df.loc[:, slice('Cas_Cumulatif', None, 1)] = df.loc[:, slice('Cas_Cumulatif', None, 1)].apply(pd.to_numeric)\n",
    "pd.set_option(\"max_columns\", None)\n",
    "\n",
    "df.head(10)"
   ]
  },
  {
   "cell_type": "code",
   "execution_count": null,
   "id": "e3feeb42",
   "metadata": {},
   "outputs": [],
   "source": [
    "df.tail(10)"
   ]
  },
  {
   "cell_type": "code",
   "execution_count": null,
   "id": "d1c4fca3",
   "metadata": {},
   "outputs": [],
   "source": [
    "import matplotlib.pyplot as plt\n",
    "\n",
    "plt.figure(figsize=(20, 15), dpi=80)\n",
    "ax = plt.gca()\n",
    "\n",
    "df.plot(kind='line', x='Date', y='Nvx_Cas', ax=ax)\n",
    "df.plot(kind='line', x='Date', y='Cas_Actifs', ax=ax)\n",
    "df.plot(kind='line', x='Date', y='Deces_Cumulatif_Total', ax=ax)\n",
    "plt.show()"
   ]
  },
  {
   "cell_type": "code",
   "execution_count": null,
   "id": "8b90a81a",
   "metadata": {},
   "outputs": [],
   "source": []
  }
 ],
 "metadata": {
  "kernelspec": {
   "display_name": "Python 3",
   "language": "python",
   "name": "python3"
  },
  "language_info": {
   "codemirror_mode": {
    "name": "ipython",
    "version": 3
   },
   "file_extension": ".py",
   "mimetype": "text/x-python",
   "name": "python",
   "nbconvert_exporter": "python",
   "pygments_lexer": "ipython3",
   "version": "3.8.8"
  }
 },
 "nbformat": 4,
 "nbformat_minor": 5
}
