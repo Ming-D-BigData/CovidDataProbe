{
 "cells": [
  {
   "cell_type": "code",
   "execution_count": null,
   "id": "f3e4e695",
   "metadata": {},
   "outputs": [],
   "source": [
    "# NOTE: Not all, but only 50000 reconds requested, starting from the most recent\n",
    "import json\n",
    "\n",
    "with open('../raw_data/Toronto, ON, CA/data.txt') as f:\n",
    "    json_data = json.load(f)\n",
    "\n",
    "#print(json.dumps(json_data, indent=4, sort_keys=True))"
   ]
  },
  {
   "cell_type": "code",
   "execution_count": null,
   "id": "9f220c5f",
   "metadata": {},
   "outputs": [],
   "source": [
    "import pandas as pd\n",
    "from datetime import datetime\n",
    "\n",
    "df = pd.json_normalize(json_data['result']['records'])\n",
    "#print(df.to_string())\n",
    "\n",
    "df.head(10)"
   ]
  },
  {
   "cell_type": "code",
   "execution_count": null,
   "id": "e3feeb42",
   "metadata": {},
   "outputs": [],
   "source": [
    "df.tail(10)"
   ]
  },
  {
   "cell_type": "code",
   "execution_count": null,
   "id": "d1c4fca3",
   "metadata": {},
   "outputs": [],
   "source": [
    "import matplotlib.pyplot as plt\n",
    "\n",
    "plt.figure(figsize=(20, 15), dpi=80)\n",
    "ax = plt.gca()\n",
    "\n",
    "df.groupby('Age Group').size().plot(kind='bar')\n",
    "\n",
    "plt.show()"
   ]
  },
  {
   "cell_type": "code",
   "execution_count": null,
   "id": "d0fd90bf",
   "metadata": {},
   "outputs": [],
   "source": [
    "plt.clf()\n",
    "\n",
    "df['yymm'] = df['Episode Date'].apply(lambda x : (x.split('-')[0] + x.split('-')[1]))\n",
    "df.groupby('yymm').size().plot(kind='bar')\n",
    "\n",
    "plt.show()"
   ]
  },
  {
   "cell_type": "code",
   "execution_count": null,
   "id": "d26d7bd8",
   "metadata": {},
   "outputs": [],
   "source": []
  }
 ],
 "metadata": {
  "kernelspec": {
   "display_name": "Python 3",
   "language": "python",
   "name": "python3"
  },
  "language_info": {
   "codemirror_mode": {
    "name": "ipython",
    "version": 3
   },
   "file_extension": ".py",
   "mimetype": "text/x-python",
   "name": "python",
   "nbconvert_exporter": "python",
   "pygments_lexer": "ipython3",
   "version": "3.8.8"
  }
 },
 "nbformat": 4,
 "nbformat_minor": 5
}
